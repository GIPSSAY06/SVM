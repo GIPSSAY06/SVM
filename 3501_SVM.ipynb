{
 "cells": [
  {
   "cell_type": "markdown",
   "id": "ca8219e4-5194-4893-929a-509478813c10",
   "metadata": {},
   "source": [
    "### MAQUINAS DE SOPORTE VECTORIAL"
   ]
  },
  {
   "cell_type": "markdown",
   "id": "5b623ca6-835c-476b-bf22-00e1177f5c3b",
   "metadata": {},
   "source": [
    "* No requiere muchos datos.\n",
    "* No simeptre son lineales, puedes ser una separacion no lineal.\n",
    "* Euler: el numero dorado."
   ]
  },
  {
   "cell_type": "code",
   "execution_count": null,
   "id": "6e97a01f-ac50-4870-a6d8-17c61dee08a9",
   "metadata": {},
   "outputs": [],
   "source": []
  }
 ],
 "metadata": {
  "kernelspec": {
   "display_name": "Python 3 (ipykernel)",
   "language": "python",
   "name": "python3"
  },
  "language_info": {
   "codemirror_mode": {
    "name": "ipython",
    "version": 3
   },
   "file_extension": ".py",
   "mimetype": "text/x-python",
   "name": "python",
   "nbconvert_exporter": "python",
   "pygments_lexer": "ipython3",
   "version": "3.9.19"
  }
 },
 "nbformat": 4,
 "nbformat_minor": 5
}
